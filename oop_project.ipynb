{
  "cells": [
    {
      "cell_type": "code",
      "execution_count": null,
      "metadata": {
        "id": "jDtLHTl1Zmhz"
      },
      "outputs": [],
      "source": []
    },
    {
      "cell_type": "code",
      "execution_count": null,
      "metadata": {
        "id": "64ycFAzFZm0f"
      },
      "outputs": [],
      "source": [
        "! pip install -q nlpcloud python-dotenv"
      ]
    },
    {
      "cell_type": "code",
      "execution_count": null,
      "metadata": {},
      "outputs": [],
      "source": [
        "import os \n",
        "from dotenv import load_dotenv \n",
        "load_dotenv()\n",
        "\n",
        "NLPCLOUD_API_KEY=os.getenv('NLP_CLOUD_API_KEY')"
      ]
    },
    {
      "cell_type": "code",
      "execution_count": null,
      "metadata": {
        "id": "oRMVELn_ZqC3"
      },
      "outputs": [],
      "source": [
        "import nlpcloud\n",
        "class NLPApp:\n",
        "\n",
        "  def __init__(self):\n",
        "    self.__database={}\n",
        "    self.__first_menu()\n",
        "\n",
        "  def __first_menu(self):\n",
        "    first_input=input(\"\"\"\n",
        "    Hi ! How Would you like to proceed ?\n",
        "    1. Not a member ? Register\n",
        "    2. Already a member ? Login\n",
        "    3. Exit\n",
        "\n",
        "    \"\"\")\n",
        "\n",
        "    if first_input=='1':\n",
        "      self.__register()\n",
        "\n",
        "    elif first_input=='2':\n",
        "      self.__login()\n",
        "\n",
        "    else:\n",
        "      exit()\n",
        "\n",
        "\n",
        "  def __second_menu(self):\n",
        "    second_input=input(\"\"\"\n",
        "    Hi ! How Would you like to proceed ?\n",
        "    1. NER\n",
        "    2. Language Detection\n",
        "    3. Sentiment Analysis\n",
        "    4. Logout\n",
        "\n",
        "    \"\"\")\n",
        "\n",
        "    if second_input=='1':\n",
        "      self.__ner()\n",
        "\n",
        "    elif second_input=='2':\n",
        "      self.__language_detection()\n",
        "\n",
        "    elif second_input=='3':\n",
        "      self.__sentiment_analysis()\n",
        "\n",
        "    else:\n",
        "      exit()\n",
        "\n",
        "\n",
        "  def __register(self):\n",
        "    name=input(\"enter name :\")\n",
        "    email=input(\"enter email :\")\n",
        "    password=input(\"enter password :\")\n",
        "\n",
        "    if email in self.__database:\n",
        "      print(\"Email already exists !\")\n",
        "\n",
        "    else:\n",
        "      self.__database[email]=[name,password]\n",
        "      print(\"Registraion successfull now you can login \")\n",
        "      self.__login()\n",
        "\n",
        "\n",
        "  def __login(self):\n",
        "    email=input(\"Enter your email:\")\n",
        "    password=input(\"Enter your password :\")\n",
        "\n",
        "    if email in self.__database :\n",
        "      if self.__database[email][1]==password:\n",
        "        print(\"Welcome to system !\")\n",
        "        self.__second_menu()\n",
        "      else:\n",
        "        print(\"Wrong passowrd is entered !!\")\n",
        "        self.__login()\n",
        "\n",
        "    else:\n",
        "      print(\"Email does not exist in system !Please Do Signup first !\")\n",
        "      self.__first_menu()\n",
        "\n",
        "\n",
        "\n",
        "  def __ner(self):\n",
        "    try:\n",
        "      para=input('Enter the paragraph :')\n",
        "      search_term=input('What would you like to search :')\n",
        "\n",
        "      client = nlpcloud.Client(\"finetuned-llama-3-70b\", NLPCLOUD_API_KEY, gpu=True)\n",
        "      result=client.entities(\n",
        "          para,\n",
        "          searched_entity=search_term\n",
        "      )\n",
        "\n",
        "      # print(result)\n",
        "      print(\"Entities found are :\")\n",
        "      for entity in result['entities']:\n",
        "        print(entity['text'])\n",
        "\n",
        "    except Exception as e:\n",
        "      print('Error Occured ',e)\n",
        "\n",
        "  def __language_detection(self):\n",
        "    try:\n",
        "      para=input('Enter the Paragraph :')\n",
        "      client = nlpcloud.Client(\"python-langdetect\", NLPCLOUD_API_KEY, gpu=False)\n",
        "      result=client.lang_detection(\n",
        "          para\n",
        "      )\n",
        "\n",
        "      print(result)\n",
        "\n",
        "    except Exception as e:\n",
        "      print('Error occured is :',e)\n",
        "\n",
        "\n",
        "  def __sentiment_analysis(self):\n",
        "    try:\n",
        "      para=input('Enter the paragraph :')\n",
        "      client = nlpcloud.Client(\"finetuned-llama-3-70b\", NLPCLOUD_API_KEY, gpu=True)\n",
        "      result=client.sentiment(para,target=\"NLP Cloud\")\n",
        "      print(result)\n",
        "    except Exception as e:\n",
        "      print('Error occured is :',e)\n",
        "\n",
        "\n"
      ]
    },
    {
      "cell_type": "code",
      "execution_count": 14,
      "metadata": {
        "colab": {
          "base_uri": "https://localhost:8080/"
        },
        "id": "h0ctAv13b4Y6",
        "outputId": "84a192e1-a4af-4770-c60c-ef7903bfcb8f"
      },
      "outputs": [
        {
          "name": "stdout",
          "output_type": "stream",
          "text": [
            "\n",
            "    Hi ! How Would you like to proceed ?\n",
            "    1. Not a member ? Register \n",
            "    2. Already a member ? Login \n",
            "    3. Exit\n",
            "    \n",
            "    1\n",
            "enter name :shubh\n",
            "enter email :shubh@gmail.com\n",
            "enter password :2144\n",
            "Registraion successfull now you can login \n",
            "Enter your email:shubh@gmail.com\n",
            "Enter your password :2144\n",
            "Welcome to system !\n",
            "\n",
            "    Hi ! How Would you like to proceed ?\n",
            "    1. NER \n",
            "    2. Language Detection\n",
            "    3. Sentiment Analysis\n",
            "    4. Logout\n",
            "    \n",
            "    1\n",
            "Enter the paragraph :John Doe started learning Javascript when he was 15 years old. After a couple of years he switched to Python and starter learning low level programming. He is now a Go expert at Google.\n",
            "What would you like to search :programming languages\n",
            "{'entities': [{'start': 26, 'end': 36, 'type': 'programming languages', 'text': 'Javascript'}, {'start': 102, 'end': 108, 'type': 'programming languages', 'text': 'Python'}, {'start': 165, 'end': 167, 'type': 'programming languages', 'text': 'Go'}]}\n"
          ]
        }
      ],
      "source": [
        "obj=NLPApp()"
      ]
    },
    {
      "cell_type": "code",
      "execution_count": null,
      "metadata": {
        "id": "ZYtjesQmklUP"
      },
      "outputs": [],
      "source": []
    }
  ],
  "metadata": {
    "colab": {
      "provenance": []
    },
    "kernelspec": {
      "display_name": "Python 3",
      "name": "python3"
    },
    "language_info": {
      "name": "python"
    }
  },
  "nbformat": 4,
  "nbformat_minor": 0
}
